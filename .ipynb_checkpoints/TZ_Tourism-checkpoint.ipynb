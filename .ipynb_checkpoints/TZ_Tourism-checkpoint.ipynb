{
 "cells": [
  {
   "cell_type": "code",
   "execution_count": null,
   "metadata": {
    "collapsed": true
   },
   "outputs": [],
   "source": [
    "#Let's analyze the Tourism industry in Tanzania\n",
    "import pandas as pd"
   ]
  },
  {
   "cell_type": "code",
   "execution_count": null,
   "metadata": {},
   "outputs": [],
   "source": [
    "#First we review the CSV\n",
    "survey = pd.read_csv(\"./2014TourismSurvey.csv\")"
   ]
  },
  {
   "cell_type": "code",
   "execution_count": null,
   "metadata": {},
   "outputs": [],
   "source": [
    "survey.columns #what were features of this survey?\n",
    "#Don't understand what PAC means... at first glance it means if something is included in a package...\n",
    "#the survey is now part of the folder for extra clarity"
   ]
  },
  {
   "cell_type": "code",
   "execution_count": null,
   "metadata": {},
   "outputs": [],
   "source": [
    "survey[['AGE_GROUP', 'IF_TRAVEL_ALONE', 'TRAVELLING_WITH', 'AGE_GROUP1_SIZE (<18)', 'AGE_GROUP2_SIZE (18-24)', 'AGE_GROUP3_SIZE (25-44)',\n",
    "       'AGE_GROUP4_SIZE (45-64)', 'AGE_GROUP5_SIZE (65+)']]\n",
    "\n",
    "#Trying to better understand age group and seems like the only reliable data point is AGE_GROUP and maybe\n",
    "#IF_TRAVEL_ALONE and TRAVELLING_WITH."
   ]
  },
  {
   "cell_type": "code",
   "execution_count": null,
   "metadata": {},
   "outputs": [],
   "source": [
    "#Check values that were recorded for features using unique\n",
    "\n",
    "survey['AGE_GROUP'].unique() #Originally weird thing were all the 8 in the ranges got changed to\n",
    "#'Others (please specify)'. Find and replace gone wrong I imagine...\n",
    "#Yeah the person who found and replaced 8s randomly is next. level."
   ]
  },
  {
   "cell_type": "code",
   "execution_count": null,
   "metadata": {},
   "outputs": [],
   "source": [
    "#Okay - let's clean up some of the data thus far. We can't really trust the individual group size columns\n",
    "#since interpreting what it means appears to be a messy process at best, so I'm opting to drop them for now\n",
    "#Also found some select other columns to be somewhat nonsense\n",
    "\n",
    "survey.drop(['AGE_GROUP1_SIZE (<18)', 'AGE_GROUP2_SIZE (18-24)', 'AGE_GROUP3_SIZE (25-44)',\n",
    "       'AGE_GROUP4_SIZE (45-64)', 'AGE_GROUP5_SIZE (65+)', 'NIGHTS_SPENT', 'PAC_OTHER_ITEM',\n",
    "            'ACCOMODATION', 'TZ_COST_COMPARISON', 'OTHER1', 'OTHER2', 'OTHER3', 'VERIFICATION_FLAG',\n",
    "             'TRAVEL_ELSE_AFRICA'], axis=1, inplace=True)"
   ]
  },
  {
   "cell_type": "code",
   "execution_count": null,
   "metadata": {},
   "outputs": [],
   "source": [
    "#We also need to replace broken AGE_GROUP values\n",
    "survey.replace({'AGE_GROUP': {'<1Others (please specify)': '<18', '1Others (please specify)-24': '18-24'}},\n",
    "              inplace=True)"
   ]
  },
  {
   "cell_type": "code",
   "execution_count": null,
   "metadata": {},
   "outputs": [],
   "source": [
    "#Great! Now let's see what other things we might want to clean up. Made functions of my most common clean up tasks\n",
    "#on this dataset.\n",
    "\n",
    "#change the column name for Tour Arrangement\n",
    "survey.rename(columns={'TOUR_ARRANGEMENT': 'tour_package'}, inplace=True)\n",
    "\n",
    "def unique(column, df):\n",
    "    return df[column].unique()\n",
    "\n",
    "def return_eight(column, df):\n",
    "    #pythonic capture of all the crazy values\n",
    "    x = [s for s in unique(column, df) if 'O' in str(s)]\n",
    "\n",
    "    y = [int(s.replace('Others (please specify)', '8')) for s in x]\n",
    "\n",
    "    rep_dict = dict(zip(x,y))\n",
    "\n",
    "    #change the values\n",
    "    df.replace({column: rep_dict}, inplace=True)\n",
    "\n",
    "def take_commas(column, df):\n",
    "    x = [s for s in unique(column, df) if ',' in str(s)]\n",
    "\n",
    "    y = [float(s.replace(',', '')) for s in x]\n",
    "\n",
    "    rep_dict = dict(zip(x,y))\n",
    "\n",
    "    #change the values\n",
    "    df.replace({column: rep_dict}, inplace=True)\n",
    "\n",
    "def make_numeric(column, df):\n",
    "    x = [s for s in unique(column, df) if type(s) == str]\n",
    "\n",
    "    y = [float(s) for s in x]\n",
    "\n",
    "    rep_dict = dict(zip(x,y))\n",
    "\n",
    "    #change the values\n",
    "    df.replace({column: rep_dict}, inplace=True)"
   ]
  },
  {
   "cell_type": "code",
   "execution_count": null,
   "metadata": {
    "scrolled": true
   },
   "outputs": [],
   "source": [
    "#Data is still dirty and here is yet another example of an inconsistency...travelling alone but with someone?\n",
    "#traveling but 0 total travellers? You'll have to trust some feature over others it'd appear.\n",
    "\n",
    "survey['TOTAL_TRAVELLERS'] = survey['NO_FEMALE'] + survey['NO_MALE']\n",
    "survey[['IF_TRAVEL_ALONE', 'TRAVELLING_WITH', 'TOTAL_TRAVELLERS']][(survey.loc[:,'IF_TRAVEL_ALONE']==1) & (survey.loc[:,'TOTAL_TRAVELLERS']!=1)]"
   ]
  },
  {
   "cell_type": "code",
   "execution_count": null,
   "metadata": {
    "scrolled": true
   },
   "outputs": [],
   "source": [
    "#A basic analysis: Who spends more per visit on average? First comers, or returners?\n",
    "howSpent = survey[['IF_FIRST_TRIP_TZ', 'CURRENCY2', 'SPENT_AMOUNT_TZ']]"
   ]
  },
  {
   "cell_type": "code",
   "execution_count": null,
   "metadata": {},
   "outputs": [],
   "source": [
    "currencies = {'TZS': lambda x: x*0.00044, 'USD': lambda x: x, 'AUD': lambda x: x*.77, 'EUR':lambda x: x*1.23,'ZAR': lambda x: x*.083,\n",
    "                  'GBP': lambda x: x*1.4, 'NOK': lambda x: x*.13, 'KES': lambda x: x*.01, 'AED': lambda x: x*.27,\n",
    "                  'QAR': lambda x: x*.27, 'CAD': lambda x: x*.78, 'DKK': lambda x: x*.16, 'CHF': lambda x: x*1.03,\n",
    "              'SAR': lambda x: x*.27, 'UGX': lambda x: x*0.00027, 'INR': lambda x: x*.015, 'SEK': lambda x: x*.12,\n",
    "              'ZMK': lambda x: x*.11, 'NZD': lambda x: x*.72, 'JYP': lambda x: x*.0093, 'ROL': lambda x: x*.26}\n",
    "\n",
    "for k, v in currencies.items():\n",
    "    howSpent.loc[howSpent[\"CURRENCY2\"]==k, \"spentInUSD\"] = howSpent['SPENT_AMOUNT_TZ'].apply(v)"
   ]
  },
  {
   "cell_type": "code",
   "execution_count": null,
   "metadata": {
    "scrolled": true
   },
   "outputs": [],
   "source": [
    "howSpent.groupby('IF_FIRST_TRIP_TZ').mean()"
   ]
  },
  {
   "cell_type": "code",
   "execution_count": null,
   "metadata": {
    "collapsed": true
   },
   "outputs": [],
   "source": []
  }
 ],
 "metadata": {
  "celltoolbar": "Raw Cell Format",
  "kernelspec": {
   "display_name": "Python 3",
   "language": "python",
   "name": "python3"
  },
  "language_info": {
   "codemirror_mode": {
    "name": "ipython",
    "version": 3
   },
   "file_extension": ".py",
   "mimetype": "text/x-python",
   "name": "python",
   "nbconvert_exporter": "python",
   "pygments_lexer": "ipython3",
   "version": "3.6.1"
  }
 },
 "nbformat": 4,
 "nbformat_minor": 2
}
