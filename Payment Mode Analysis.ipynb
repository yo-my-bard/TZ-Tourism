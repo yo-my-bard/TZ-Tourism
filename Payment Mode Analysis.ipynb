{
 "cells": [
  {
   "cell_type": "code",
   "execution_count": 38,
   "metadata": {
    "collapsed": true
   },
   "outputs": [],
   "source": [
    "import pandas as pd\n",
    "import numpy as np\n",
    "import matplotlib.pyplot as plt"
   ]
  },
  {
   "cell_type": "code",
   "execution_count": 2,
   "metadata": {
    "collapsed": true
   },
   "outputs": [],
   "source": [
    "survey = pd.read_csv(\"./2014TourismSurvey_clean.csv\")"
   ]
  },
  {
   "cell_type": "code",
   "execution_count": 5,
   "metadata": {},
   "outputs": [
    {
     "data": {
      "text/plain": [
       "Index(['nationality', 'country_description', 'age_group', 'if_travel_alone',\n",
       "       'travelling_with', 'no_female', 'no_male', 'total_travellers',\n",
       "       'purpose_code', 'purpose_other', 'activity_main', 'activity_others',\n",
       "       'info_source', 'info_source_others', 'info_radio_tv_web',\n",
       "       'tour_package', 'pac_transport_int', 'pac_accomodation', 'pac_food',\n",
       "       'pac_transport_tz', 'pac_sightseeing', 'pac_guided_tour',\n",
       "       'pac_insurance', 'currency1', 'package_cost', 'if_group_package',\n",
       "       'nights_mainland', 'nights_zanzibar', 'currency2', 'spent_amount_tz',\n",
       "       'acc_hotel', 'acc_others', 'food_drink', 'trans_air', 'trans_road',\n",
       "       'trans_water', 'trans_railway', 'trans_rental', 'cost_transport_tz',\n",
       "       'exp_cult_service', 'exp_sport', 'exp_sightseeing', 'mountain_climbing',\n",
       "       'hunting', 'gate_fees', 'visa_taxes', 'exp_shopping', 'exp_other',\n",
       "       'exp_other_detail', 'if_group_breakdown', 'payment_mode',\n",
       "       'payment_mode_others', 'if_first_trip_tz', 'most_impressing_tz1',\n",
       "       'most_impressing_tz2', 'most_impressing_tz3', 'most_impressing_tz4',\n",
       "       'improvement_areas1', 'improvement_areas2', 'improvement_areas3',\n",
       "       'improvement_areas4'],\n",
       "      dtype='object')"
      ]
     },
     "execution_count": 5,
     "metadata": {},
     "output_type": "execute_result"
    }
   ],
   "source": [
    "survey.columns"
   ]
  },
  {
   "cell_type": "code",
   "execution_count": 15,
   "metadata": {},
   "outputs": [],
   "source": [
    "currencies = {'TZS': lambda x: x*0.00044, 'USD': lambda x: x, 'AUD': lambda x: x*.77, 'EUR':lambda x: x*1.23,'ZAR': lambda x: x*.083,\n",
    "                  'GBP': lambda x: x*1.4, 'NOK': lambda x: x*.13, 'KES': lambda x: x*.01, 'AED': lambda x: x*.27,\n",
    "                  'QAR': lambda x: x*.27, 'CAD': lambda x: x*.78, 'DKK': lambda x: x*.16, 'CHF': lambda x: x*1.03,\n",
    "              'SAR': lambda x: x*.27, 'UGX': lambda x: x*0.00027, 'INR': lambda x: x*.015, 'SEK': lambda x: x*.12,\n",
    "              'ZMK': lambda x: x*.11, 'NZD': lambda x: x*.72, 'JYP': lambda x: x*.0093, 'ROL': lambda x: x*.26}\n",
    "\n",
    "for k, v in currencies.items():\n",
    "    survey.loc[survey[\"currency2\"]==k, \"spentInUSD\"] = survey['spent_amount_tz'].apply(v)"
   ]
  },
  {
   "cell_type": "code",
   "execution_count": 44,
   "metadata": {},
   "outputs": [
    {
     "data": {
      "image/png": "[encoded data removed]",
      "text/plain": [
       "<matplotlib.figure.Figure at 0x11737b9b0>"
      ]
     },
     "metadata": {},
     "output_type": "display_data"
    }
   ],
   "source": [
    "survey['payment_mode'].unique()\n",
    "survey.groupby('payment_mode')['spentInUSD'].mean().plot(\"bar\", color=\"green\", title=\"Payment Mode\")\n",
    "\n",
    "plt.show()"
   ]
  },
  {
   "cell_type": "code",
   "execution_count": 35,
   "metadata": {},
   "outputs": [
    {
     "data": {
      "text/plain": [
       "(array(['0', 'BANK TRANSFER', 'BAR', 'C', 'COMPANY PAID ON BEHALF',\n",
       "        'CREDIT CARD', 'DEBIT CARD', 'DEBT CARD', 'IN ADVANCE', 'PRE PAID',\n",
       "        'PREPAID', 'T.S', 'WIRE RASFOR', 'Y', 'nan'], dtype=object),\n",
       " array([  17,    2,    1,    4,    1,   14,    2,    1,    1,    1,    1,\n",
       "           1,    1,    1, 7430]))"
      ]
     },
     "execution_count": 35,
     "metadata": {},
     "output_type": "execute_result"
    }
   ],
   "source": [
    "#Basically showing you can ignore the payment_mode_others column because it's nonsense. What little value it provides,\n",
    "#it is sure to negate.\n",
    "\n",
    "np.unique(survey['payment_mode_others'].apply(lambda x: str(x)).values, return_counts=True)"
   ]
  },
  {
   "cell_type": "code",
   "execution_count": null,
   "metadata": {
    "collapsed": true
   },
   "outputs": [],
   "source": []
  }
 ],
 "metadata": {
  "kernelspec": {
   "display_name": "Python 3",
   "language": "python",
   "name": "python3"
  },
  "language_info": {
   "codemirror_mode": {
    "name": "ipython",
    "version": 3
   },
   "file_extension": ".py",
   "mimetype": "text/x-python",
   "name": "python",
   "nbconvert_exporter": "python",
   "pygments_lexer": "ipython3",
   "version": "3.6.1"
  }
 },
 "nbformat": 4,
 "nbformat_minor": 2
}
